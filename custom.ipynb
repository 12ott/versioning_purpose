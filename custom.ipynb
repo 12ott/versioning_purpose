{
 "cells": [
  {
   "cell_type": "code",
   "execution_count": null,
   "metadata": {},
   "outputs": [],
   "source": [
    "# print some number\n",
    "print(\"123\")"
   ]
  }
 ],
 "metadata": {
  "kernelspec": {
   "display_name": "Python 3.10.8 64-bit",
   "language": "python",
   "name": "python3"
  },
  "language_info": {
   "name": "python",
   "version": "3.10.8"
  },
  "orig_nbformat": 4,
  "vscode": {
   "interpreter": {
    "hash": "1fd99ebf3b4b3d869d88069ffbe23a670d5222adfe290489e8231bf5adf51d09"
   }
  }
 },
 "nbformat": 4,
 "nbformat_minor": 2
}
